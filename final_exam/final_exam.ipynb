{
 "cells": [
  {
   "cell_type": "code",
   "execution_count": null,
   "metadata": {},
   "outputs": [],
   "source": [
    "import matplotlib.pyplot as plt\n",
    "import pandas as pd\n",
    "\n",
    "fulfillment_center_data = pd.read_csv(\"./fulfilment_center_info.csv\")\n",
    "meal_info = pd.read_csv(\"./meal_info.csv\")\n",
    "order_info = pd.read_csv(\"./train.csv\")"
   ]
  },
  {
   "cell_type": "code",
   "execution_count": null,
   "metadata": {},
   "outputs": [],
   "source": [
    "meals_and_orders = order_info.merge(\n",
    "    meal_info, on=\"meal_id\")[\n",
    "        ['meal_id','category','cuisine','week', 'checkout_price', 'emailer_for_promotion','homepage_featured','num_orders']]\n",
    "\n",
    "meals_and_orders_total = meals_and_orders.groupby(\"meal_id\").agg({\n",
    "    'cuisine': 'first',\n",
    "    'category': \"first\",\n",
    "    'checkout_price': 'mean',\n",
    "    'num_orders': 'sum'\n",
    "}).sort_values(by=\"num_orders\")\n",
    "\n",
    "grouped_fullfilment_center_by_region = fulfillment_center_data.merge(\n",
    "    order_info, on='center_id')[['num_orders', 'center_id', 'op_area', 'region_code']].groupby(\n",
    "    \"region_code\").agg({\n",
    "    'op_area': 'sum',\n",
    "    'num_orders': 'sum'\n",
    "}).sort_values(by=\"num_orders\")\n",
    "    \n",
    "grouped_fullfilment_center_by_city = fulfillment_center_data.merge(\n",
    "    order_info, on='center_id')[['num_orders', 'center_id', 'op_area', 'city_code']].groupby(\n",
    "    \"city_code\").agg({\n",
    "    'op_area': 'sum',\n",
    "    'num_orders': 'sum'\n",
    "}).sort_values(by=\"num_orders\")\n"
   ]
  },
  {
   "cell_type": "code",
   "execution_count": null,
   "metadata": {},
   "outputs": [],
   "source": [
    "fig, axis = plt.subplots(1, 3, figsize=(15, 5))\n",
    "\n",
    "axis[0].barh(meals_and_orders_total[\"cuisine\"], meals_and_orders_total['num_orders'], label=\"test\")\n",
    "axis[0].set_title(\"Numbers of orders by type of cuisine\")\n",
    "\n",
    "axis[1].barh(meals_and_orders_total['category'], meals_and_orders_total['num_orders'])\n",
    "axis[1].set_title(\"Numbers of orders by food category\")\n",
    "\n",
    "axis[2].bar(meals_and_orders_total['checkout_price'], meals_and_orders_total['num_orders'])\n",
    "axis[2].set_title(\"Numbers of orders by checkout price\")\n",
    "\n",
    "fig.tight_layout()\n",
    "fig.show()"
   ]
  },
  {
   "cell_type": "code",
   "execution_count": null,
   "metadata": {},
   "outputs": [],
   "source": [
    "plot, sections = plt.subplots(1, 2, figsize=(15, 5))\n",
    "\n",
    "sections[0].scatter(grouped_fullfilment_center_by_region[\"num_orders\"], grouped_fullfilment_center_by_region[\"op_area\"])\n",
    "sections[0].set_title(\"Correlation between operation area an number of orders in region\")\n",
    "\n",
    "sections[1].scatter(grouped_fullfilment_center_by_city[\"num_orders\"], grouped_fullfilment_center_by_city[\"op_area\"])\n",
    "sections[1].set_title(\"Correlation between operation area an number of orders in city\")\n",
    "\n",
    "plot.tight_layout()\n",
    "plot.show()"
   ]
  },
  {
   "cell_type": "code",
   "execution_count": null,
   "metadata": {},
   "outputs": [],
   "source": [
    "order_data_by_promotion = order_info.groupby(['meal_id', 'emailer_for_promotion','homepage_featured']).agg({\n",
    "    'num_orders': 'sum'\n",
    "}).reset_index().sort_values(by='meal_id')\n",
    "\n",
    "is_promoted_series = order_data_by_promotion['emailer_for_promotion'] | order_data_by_promotion['homepage_featured']\n",
    "\n",
    "order_data_by_promotion = order_data_by_promotion.assign(is_promoted= is_promoted_series)\n",
    "\n",
    "order_data_by_promotion = order_data_by_promotion.groupby(['meal_id', 'is_promoted']).agg({\n",
    "    'num_orders': 'sum'\n",
    "}).reset_index().sort_values(by='meal_id')\n",
    "\n",
    "promoted = order_data_by_promotion[order_data_by_promotion['is_promoted'] == 1]\n",
    "non_promoted = order_data_by_promotion[order_data_by_promotion['is_promoted'] == 0]\n",
    "\n",
    "plt.plot(promoted['meal_id'], promoted['num_orders'], label=\"promoted\")\n",
    "plt.plot(non_promoted['meal_id'], non_promoted['num_orders'], label=\"non promoted\")\n",
    "\n",
    "plt.legend()\n",
    "\n",
    "plt.xlabel(\"Meal Id\")\n",
    "plt.ylabel(\"Number of orders\")\n",
    "\n",
    "plt.title(\"Difference between promoted and non promoted orders\")\n",
    "\n",
    "plt.tight_layout()\n",
    "plt.show()"
   ]
  }
 ],
 "metadata": {
  "kernelspec": {
   "display_name": "base",
   "language": "python",
   "name": "python3"
  },
  "language_info": {
   "codemirror_mode": {
    "name": "ipython",
    "version": 3
   },
   "file_extension": ".py",
   "mimetype": "text/x-python",
   "name": "python",
   "nbconvert_exporter": "python",
   "pygments_lexer": "ipython3",
   "version": "3.12.2"
  }
 },
 "nbformat": 4,
 "nbformat_minor": 2
}
