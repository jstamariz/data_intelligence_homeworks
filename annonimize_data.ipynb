{
 "cells": [
  {
   "cell_type": "code",
   "execution_count": 16,
   "metadata": {},
   "outputs": [
    {
     "name": "stdout",
     "output_type": "stream",
     "text": [
      "    Index      Customer Id  First Name   Last Name     Company        City  \\\n",
      "0       1  DD37Cf93aecA6Dc  6zV77SNoib  lSK2SgfVZ1  dqGq9nnWvZ  6YYzeiSqIN   \n",
      "1       2  1Ef7b82A4CAAD10  WnLAoG4b8P  qb6dWEzTGE  rvraGVgdis  ccATYH52Ok   \n",
      "2       3  6F94879bDAfE5a6  KS6a5HIO4U  Rl2diVXEor  VEPOO7hDpL  Utl2qsavbj   \n",
      "3       4  5Cef8BFA16c5e3c  MazjroOm7h  zU60zFgj5f  g26YMJ10X6  w6mfnGI1Ak   \n",
      "4       5  053d585Ab6b3159  qZZIHg0o5W  fzIaAmS55P  QwCMSXIV63  EDm5bNO0AM   \n",
      "..    ...              ...         ...         ...         ...         ...   \n",
      "95     96  cb8E23e48d22Eae  xGhiMv0j4N  jhhjEfamRz  YoD62UhrYT  f9jROXmsBH   \n",
      "96     97  CeD220bdAaCfaDf  H89PiID1lf  XFSQR2PPjM  z1HEWR2AmN  FiqLfKDdeE   \n",
      "97     98  28CDbC0dFe4b1Db  zGiJLNa2pu  tUUOrQfHgQ  uruLeQSvad  XkDztJAWes   \n",
      "98     99  c23d1D9EE8DEB0A  mzW7ty0F86  OUuQc5VuCO  kS1tJhmvef  F4kcaY3hCx   \n",
      "99    100  2354a0E336A91A1  HkraC1itns  aFVnhXJ0rY  uvIoUNAm0U  qMr7aU6970   \n",
      "\n",
      "       Country     Phone 1     Phone 2       Email Subscription Date  \\\n",
      "0   LzXyN3GP3e  TurDBo0MNn  zIViugrihv  lqlRcisqtC        U0nnZeB5SF   \n",
      "1   R8wtgfaCy7  utQ3bSPMWJ  7MYtSsH2m9  6fBjVvhuc9        NAA2T7MnN7   \n",
      "2   BgCfwiDfxv  9YbMvmw26b  gNBhnzQCCm  ca91DDP2D1        mncZQko6t6   \n",
      "3   IxhBsoGwmi  MRvdUTAC0I  he2WJHW21j  eadeFwkwsD        E2RK3JvEfB   \n",
      "4   bRTKVPCyfr  7rb3xvnbSw  xVtRQC7Z1u  aV8HfdPsdg        flngX0uamW   \n",
      "..         ...         ...         ...         ...               ...   \n",
      "95  unOW0kXBPP  3DjZgNhVrp  lwxssteuHf  n2L6d8B4Pa        yia0sCHZbR   \n",
      "96  2GvplDv9lh  NN2jdXp89N  fDIp99M475  5JXokivupA        Bz6OfCvFmF   \n",
      "97  cWhT5iBFYr  IAjLMP2DkA  GVBKFXWhTw  yvCm7Ei0zo        Uz1f98ALQW   \n",
      "98  LXGOEWtWUf  W9W0AValWC  lCPbcqvBdk  J24A5adaRN        pQ6WJ2fsU2   \n",
      "99  LTtqT2HPiJ  bYt74NOPO5  wre6Gei2Wy  0BitVzDjiq        jcSTW73hVk   \n",
      "\n",
      "       Website  \n",
      "0   5ZSD1b7Jxh  \n",
      "1   lKatAIjtVC  \n",
      "2   Ksldk0MnxC  \n",
      "3   vaVCprTGMS  \n",
      "4   XNHMbazr7w  \n",
      "..         ...  \n",
      "95  Il2ScCUcNl  \n",
      "96  ioSj2Pcuwx  \n",
      "97  BF7Pjq1KLU  \n",
      "98  zaE3kT6xYI  \n",
      "99  F1CWftU89x  \n",
      "\n",
      "[100 rows x 12 columns]\n"
     ]
    }
   ],
   "source": [
    "import pandas as pd\n",
    "import random\n",
    "import string\n",
    "\n",
    "def randomize_values(df):\n",
    "    for column in df.columns:\n",
    "        if df[column].dtype == 'O' and column != 'Customer Id': # check if column has object dtype\n",
    "            df[column] = [''.join(random.choices(string.ascii_letters + string.digits, k=10)) for _ in range(len(df))] # generate a list of random strings\n",
    "    return df\n",
    "\n",
    "data = pd.read_csv(\"./customers-100.csv\")\n",
    "\n",
    "print(randomize_values(data))"
   ]
  }
 ],
 "metadata": {
  "kernelspec": {
   "display_name": "base",
   "language": "python",
   "name": "python3"
  },
  "language_info": {
   "codemirror_mode": {
    "name": "ipython",
    "version": 3
   },
   "file_extension": ".py",
   "mimetype": "text/x-python",
   "name": "python",
   "nbconvert_exporter": "python",
   "pygments_lexer": "ipython3",
   "version": "3.12.2"
  }
 },
 "nbformat": 4,
 "nbformat_minor": 2
}
